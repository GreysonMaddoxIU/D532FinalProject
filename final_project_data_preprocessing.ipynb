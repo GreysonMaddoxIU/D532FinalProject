{
 "cells": [
  {
   "cell_type": "markdown",
   "id": "4141f98d-e1f2-45e3-9e03-92c5cb03329e",
   "metadata": {},
   "source": [
    "## Loading in the data"
   ]
  },
  {
   "cell_type": "code",
   "execution_count": 406,
   "id": "be9a9373-3ccc-44f4-ac43-a707d90b500d",
   "metadata": {},
   "outputs": [],
   "source": [
    "import pandas as pd\n",
    "import re\n",
    "import numpy as np"
   ]
  },
  {
   "cell_type": "code",
   "execution_count": 407,
   "id": "28377558-eea7-447c-965f-c49879dd5ffb",
   "metadata": {
    "tags": []
   },
   "outputs": [],
   "source": [
    "# Concatenate csvs into one master dataframe\n",
    "\n",
    "genre_list = ['action','adventure','animation','biography','comedy','crime','documentary','drama'\n",
    "              ,'family','fantasy','history','horror','music','musical','mystery','romance','sci-fi'\n",
    "              ,'sport','superhero','thriller','war','western']\n",
    "\n",
    "master_df = pd.DataFrame()\n",
    "\n",
    "for genre in genre_list:\n",
    "    genre_df = pd.read_csv('{}_series.csv'.format(genre))\n",
    "    master_df = pd.concat([master_df,genre_df])"
   ]
  },
  {
   "cell_type": "markdown",
   "id": "da904bf9-3fc4-4b3f-ab4c-b8646391f347",
   "metadata": {},
   "source": [
    "## Data Cleaning & Preprocessing"
   ]
  },
  {
   "cell_type": "code",
   "execution_count": 408,
   "id": "0985f7f6-04f5-46d0-95d1-ca76581c7e8b",
   "metadata": {},
   "outputs": [],
   "source": [
    "# remove duplicate rows since each title appears in multiple genre files\n",
    "master_df.drop_duplicates(subset = 'IMDb ID', inplace = True)"
   ]
  },
  {
   "cell_type": "code",
   "execution_count": 409,
   "id": "7921ffd5-482c-441a-9ed4-7bf2609d0147",
   "metadata": {},
   "outputs": [],
   "source": [
    "# Release Year - For TV shows we will keep the year in which the show first started. Take first 4 digit number per record\n",
    "master_df['Release Year'] = master_df['Release Year'].str.extract(r'(\\d{1,4})')"
   ]
  },
  {
   "cell_type": "code",
   "execution_count": 410,
   "id": "c5031216-5563-4f6f-b4a1-7ea02cd115fb",
   "metadata": {},
   "outputs": [],
   "source": [
    "# Genre - Each record has 3 genres, so we will convert it into a singular array format\n",
    "master_df['Genre'] = master_df['Genre'].str.split(',').apply(lambda x: [genre.strip() for genre in x])"
   ]
  },
  {
   "cell_type": "code",
   "execution_count": 411,
   "id": "b0a2ce56-758f-4832-94f8-3a46638d1ce4",
   "metadata": {},
   "outputs": [],
   "source": [
    "# Cast - Turn directors and actors into their own columns (array of strings)\n",
    "\n",
    "# Function to clean up the Cast column string\n",
    "# Using regex patterns for director(s) and star(s), then splitting names by commas and removing white spaces\n",
    "\n",
    "def extract_string(col, pattern):\n",
    "    \n",
    "    # The pattern for directors is extract names after 'Director' or 'Directors' followed by ':' and before '|'\n",
    "    # The pattern for actors is extract names after 'Star' or 'Stars' followed by ':' until the end of the string\n",
    "    names = col.str.extractall(pattern)[0]\n",
    "    \n",
    "    # Split the names by commas and remove empty spaces\n",
    "    names_list = names.str.split(',').explode().str.strip()\n",
    "    names_list = names_list[names_list != \"\"]\n",
    "    \n",
    "    # Convert the names into a single list of strings, each string is a full name\n",
    "    final_names_list = names_list.groupby(level=0).apply(lambda x: np.array(x, dtype=str))\n",
    "    \n",
    "    return final_names_list"
   ]
  },
  {
   "cell_type": "code",
   "execution_count": 412,
   "id": "870f1aad-ef72-408f-811a-c05722804905",
   "metadata": {},
   "outputs": [],
   "source": [
    "# The pattern for directors is extract names after 'Director' or 'Directors' followed by ':' and before '|'\n",
    "directors_regex = r\"(?i)Director[s]?[:,]\\s*([^|]+)\"\n",
    "master_df['directors'] = extract_string(master_df['Cast'],directors_regex)\n",
    "\n",
    "# The pattern for actors is extract names after 'Star' or 'Stars' followed by ':' until the end of the string\n",
    "actors_regex = r\"(?i)Star[s]?[:,]\\s*([^:]+)$\"\n",
    "master_df['actors'] = extract_string(master_df['Cast'],actors_regex)"
   ]
  },
  {
   "cell_type": "code",
   "execution_count": 413,
   "id": "2a706c92-151d-4598-a058-7bb5e5e2b820",
   "metadata": {},
   "outputs": [],
   "source": [
    "# remove 'min' from runtime to make it just the number of minutes\n",
    "master_df['Runtime'] = master_df['Runtime'].str.replace('min','').str.strip()"
   ]
  },
  {
   "cell_type": "code",
   "execution_count": 414,
   "id": "03cc6323-4055-4fbc-b083-698ef1ca38db",
   "metadata": {},
   "outputs": [],
   "source": [
    "# create a column that determines if its a movie or tv show\n",
    "# we can use the directors column to do this. if it has a director, its a movie. if not, its a tv show\n",
    "master_df['movie_series_ind'] = master_df['Runtime'].apply(lambda x: 'series' if pd.isnull(x) else 'movie')"
   ]
  },
  {
   "cell_type": "code",
   "execution_count": 415,
   "id": "57e8c97e-4c8e-4aba-a02b-c3c77b9d82c6",
   "metadata": {},
   "outputs": [],
   "source": [
    "# remove unncessary columns that wont be used in the final data\n",
    "master_df.drop(columns = ['Cast','Synopsis','Gross Revenue'], inplace=True)"
   ]
  },
  {
   "cell_type": "code",
   "execution_count": 416,
   "id": "9188b101-aa14-4156-8aff-122444d943ea",
   "metadata": {},
   "outputs": [],
   "source": [
    "# make all column names lowercase with underscores for column names\n",
    "master_df.rename(columns=lambda x: x.lower().replace(' ', '_'), inplace=True)\n",
    "\n",
    "# add a minutes classifier to the runtime column name\n",
    "master_df.rename(columns={'runtime':'runtime_mins'}, inplace=True)"
   ]
  },
  {
   "cell_type": "code",
   "execution_count": 418,
   "id": "82b03403-07a2-4c6b-ae1b-8f58000c7034",
   "metadata": {},
   "outputs": [],
   "source": [
    "# Output the final table as a csv\n",
    "master_df.to_csv('series_dataset.csv')"
   ]
  }
 ],
 "metadata": {
  "kernelspec": {
   "display_name": "Python 3",
   "language": "python",
   "name": "python3"
  },
  "language_info": {
   "codemirror_mode": {
    "name": "ipython",
    "version": 3
   },
   "file_extension": ".py",
   "mimetype": "text/x-python",
   "name": "python",
   "nbconvert_exporter": "python",
   "pygments_lexer": "ipython3",
   "version": "3.8.13"
  }
 },
 "nbformat": 4,
 "nbformat_minor": 5
}
